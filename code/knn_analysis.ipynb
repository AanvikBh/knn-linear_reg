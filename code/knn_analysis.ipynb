{
 "cells": [
  {
   "cell_type": "code",
   "execution_count": 60,
   "metadata": {},
   "outputs": [],
   "source": [
    "from math import *\n",
    "import numpy as np \n",
    "import pandas as pd"
   ]
  },
  {
   "cell_type": "code",
   "execution_count": 110,
   "metadata": {},
   "outputs": [],
   "source": [
    "possible_distance_metrics = [\"euclidean\", \"manhattan\", \"cosine\"]\n",
    "max_k = 40\n",
    "# csv_dataset = \"../../data/interim/1/knn/spotify_un\"\n",
    "train_data_path = \"../../data/interim/1/knn/train_1.csv\"\n",
    "test_data_path = \"../../data/interim/1/knn/test_1.csv\"\n",
    "val_data_path = \"../../data/interim/1/knn/validation_1.csv\"\n",
    "unique_dataset_path = \"../../data/interim/1/knn/spotify_unique.csv\""
   ]
  },
  {
   "cell_type": "code",
   "execution_count": 111,
   "metadata": {},
   "outputs": [],
   "source": [
    "\n",
    "# Load the data from the CSV file\n",
    "data = pd.read_csv(unique_dataset_path)\n",
    "\n",
    "# Remove the first unnamed column\n",
    "data = data.drop(data.columns[0], axis=1)\n",
    "\n",
    "# Convert 'explicit' (bool) to int\n",
    "data['explicit'] = data['explicit'].astype(int)\n",
    "\n",
    "numeric_features = ['popularity', 'duration_ms', 'danceability', 'energy', 'key', 'loudness', 'mode', 'speechiness', 'acousticness', 'instrumentalness', 'liveness', 'valence', 'tempo', 'time_signature']\n",
    "categorical_features = ['track_id', 'artists', 'album_name', 'track_name']\n",
    "features_to_drop = ['time_signature', 'duration_ms']\n",
    "\n",
    "# Normalize numeric features using min-max normalization\n",
    "data[numeric_features] = (data[numeric_features] - data[numeric_features].min()) / (data[numeric_features].max() - data[numeric_features].min())\n",
    "\n",
    "# Create dictionaries for storing encodings and inverse encodings\n",
    "encodings = {}\n",
    "inverse_encodings = {}\n",
    "\n",
    "# Encode categorical features and store the mappings\n",
    "for feature in categorical_features:\n",
    "    # Create a mapping for the feature\n",
    "    unique_values = data[feature].unique()\n",
    "    encoding_map = {value: idx for idx, value in enumerate(unique_values)}\n",
    "    inverse_encoding_map = {idx: value for value, idx in encoding_map.items()}\n",
    "    \n",
    "    # Replace the feature with its encoded values\n",
    "    data[feature] = data[feature].map(encoding_map)\n",
    "    \n",
    "    # Store the mappings\n",
    "    encodings[feature] = encoding_map\n",
    "    inverse_encodings[feature] = inverse_encoding_map\n",
    "\n",
    "\n",
    "# Encode 'track_genre'\n",
    "track_genre_mapping = {genre: idx for idx, genre in enumerate(data['track_genre'].unique())}\n",
    "data['track_genre'] = data['track_genre'].map(track_genre_mapping)\n",
    "\n",
    "# remove all the categorical features for now\n",
    "data = data.drop(columns=categorical_features)\n",
    "\n",
    "# Shuffle the data\n",
    "data = data.sample(frac=1).reset_index(drop=True)\n",
    "# # Split the data into features (X) and target (y)\n",
    "# X_pts = data.iloc[:, :-1].values  # Assuming all columns except last are features\n",
    "# Y_pts = data.iloc[:, -1].values  # Assuming last column is the target\n",
    "\n",
    "train_size = int(0.8 * len(data))\n",
    "val_size = int(0.1 * len(data))\n",
    "\n",
    "train_data = data[:train_size]\n",
    "val_data = data[train_size:train_size+val_size]\n",
    "test_data = data[train_size+val_size:]\n",
    "\n",
    "# Write the training data to the specified path\n",
    "train_data.to_csv(train_data_path, index=False)\n",
    "\n",
    "# Write the validation data to the specified path\n",
    "val_data.to_csv(val_data_path, index=False)\n",
    "\n",
    "# Write the test data to the specified path\n",
    "test_data.to_csv(test_data_path, index=False)\n"
   ]
  },
  {
   "cell_type": "code",
   "execution_count": 161,
   "metadata": {},
   "outputs": [],
   "source": [
    "# distance metrics only defined for int/float and not on categorical values \n",
    "# can use binary indicator for categorical values \n",
    "\n",
    "# def euclidean_distance(row1, row2):\n",
    "#     dist = 0.0\n",
    "#     for i in range(len(row1)):\n",
    "#         if isinstance(row1[i], (int, float)) and isinstance(row2[i], (int, float)):\n",
    "#             dist += (row1[i] - row2[i]) ** 2\n",
    "#     dist = sqrt(dist)\n",
    "#     return dist\n",
    "\n",
    "# def manhattan_distance(row1, row2):\n",
    "#     dist = 0.0\n",
    "#     for i in range(len(row1)):\n",
    "#         if isinstance(row1[i], (int, float)) and isinstance(row2[i], (int, float)):\n",
    "#             dist += abs(row1[i] - row2[i])\n",
    "#     return dist\n",
    "\n",
    "# def cosine_distance(row1, row2):\n",
    "#     dot_product = 0.0\n",
    "#     norm_row1 = 0.0\n",
    "#     norm_row2 = 0.0\n",
    "    \n",
    "#     for i in range(len(row1)):\n",
    "#         if isinstance(row1[i], (int, float)) and isinstance(row2[i], (int, float)):\n",
    "#             dot_product += row1[i] * row2[i]\n",
    "#             norm_row1 += row1[i] ** 2\n",
    "#             norm_row2 += row2[i] ** 2\n",
    "    \n",
    "#     norm_row1 = sqrt(norm_row1)\n",
    "#     norm_row2 = sqrt(norm_row2)\n",
    "#     epsi=1e-10\n",
    "#     if norm_row1 == 0 or norm_row2 == 0:\n",
    "#         return 1.0  # If either norm is zero, cosine similarity is undefined; assume max distance\n",
    "    \n",
    "#     cosine_similarity = dot_product / (norm_row1 * norm_row2 +epsi)\n",
    "#     cosine_distance = 1 - cosine_similarity\n",
    "    \n",
    "#     return cosine_distance\n",
    "\n",
    "def euclidean_distance(X_train, X_query):\n",
    "    distances = []\n",
    "    for row in X_train:\n",
    "        dist = np.sqrt(np.sum((row - X_query) ** 2))\n",
    "        distances.append(dist)\n",
    "    return np.array(distances)\n",
    "\n",
    "def manhattan_distance(X_train, X_query):\n",
    "    distances = []\n",
    "    for row in X_train:\n",
    "        dist = np.sum(np.abs(row - X_query))\n",
    "        distances.append(dist)\n",
    "    return np.array(distances)\n",
    "\n",
    "def cosine_distance(X_train, X_query):\n",
    "    distances = []\n",
    "    norm_X_query = np.linalg.norm(X_query)\n",
    "    for row in X_train:\n",
    "        norm_row = np.linalg.norm(row)\n",
    "        dot_product = np.dot(row, X_query)\n",
    "        eps = 1e-10\n",
    "        cosine_similarity = dot_product / (norm_row * norm_X_query + eps)\n",
    "        cosine_dist = 1 - cosine_similarity\n",
    "        distances.append(cosine_dist)\n",
    "    return np.array(distances)\n",
    "\n",
    "\n",
    "# def optim_euclidean_distance(row1, row2):\n",
    "\n",
    "#     row1 = np.array(row1)\n",
    "#     row2 = np.array(row2)\n",
    "\n",
    "#     return np.sqrt(np.sum((row1 - row2) ** 2, axis=1))\n",
    "\n",
    "        \n",
    "# def optim_manhattan_distance(row1, row2):\n",
    "#     row1 = np.array(row1)\n",
    "#     row2 = np.array(row2)\n",
    "        \n",
    "#     return np.sum(np.abs(row1 - row2), axis=1)\n",
    "        \n",
    "        \n",
    "# def optim_cosine_distance(row1, row2):\n",
    "#     row1 = np.array(row1)\n",
    "#     row2 = np.array(row2)\n",
    "#     epsi = 1e-10\n",
    "#     dot_product = np.dot(row1, row2)\n",
    "#     return 1 - dot_product / ((np.linalg.norm(row1, axis=1) * np.linalg.norm(row2))+epsi)\n",
    "\n"
   ]
  },
  {
   "cell_type": "code",
   "execution_count": 162,
   "metadata": {},
   "outputs": [],
   "source": [
    "\n",
    "# ChatGPT prompt: https://chatgpt.com/share/2c57959a-246a-4fa0-a15e-36e477c628ee\n",
    "\n",
    "# def get_neighbours(k, train_dataset, test_row, metric):\n",
    "#     max_heap = []\n",
    "#     for row in train_dataset:\n",
    "#         dist = metric(row, test_row)\n",
    "#         if len(max_heap) < k:\n",
    "#             heapq.heappush(max_heap, (-dist, row))\n",
    "#         else:\n",
    "#             if -dist > max_heap[0][0]:\n",
    "#                 heapq.heapreplace(max_heap, (-dist, row))\n",
    "#     neighbours = [row for (_, row) in max_heap]\n",
    "#     return neighbours \n",
    "\n",
    "# def predict_class(k, train_dataset, test_row, metric):\n",
    "#     k_nearest_neighbours = get_neighbours(k, train_dataset, test_row, metric)    \n",
    "#     # Count the occurrences of each class label among the nearest neighbors\n",
    "#     class_votes = {}\n",
    "#     for neighbour in k_nearest_neighbours:\n",
    "#         label = neighbour[-1]  # Assuming the class label is the last element in the row\n",
    "#         if label in class_votes:\n",
    "#             class_votes[label] += 1\n",
    "#         else:\n",
    "#             class_votes[label] = 1\n",
    "#     # Return the class label with the most votes\n",
    "#     predicted_label = max(class_votes, key=class_votes.get)\n",
    "#     return predicted_label\n",
    "\n",
    "\n",
    "# class KNN:\n",
    "#     def __init__(self, k, metric):\n",
    "#         self.k = k\n",
    "#         self.distance_metrices = metric\n",
    "#         self.train_dataset = []\n",
    "#         self.val_dataset = []\n",
    "#         self.test_dataset = []\n",
    "#         if self.distance_metrics == \"euclidean\":\n",
    "#             self.dist_func = euclidean_distance\n",
    "#         elif self.distance_metrics == \"manhattan\":\n",
    "#             self.dist_func = manhattan_distance\n",
    "#         elif self.distance_metrics == \"cosine\":\n",
    "#             self.dist_func = cosine_distance\n",
    "\n",
    "#     def fit(self, train_dataset, val_dataset=None):\n",
    "#         self.train_dataset = train_dataset\n",
    "#         self.val_dataset = val_dataset if val_dataset is not None else []\n",
    "\n",
    "#     def predict(self, test_row):\n",
    "#         k_nearest_neighbours = self.get_neighbours(self.k, self.train_dataset, test_row)\n",
    "        \n",
    "#         # Count the occurrences of each class label among the nearest neighbors\n",
    "#         class_votes = {}\n",
    "#         for neighbour in k_nearest_neighbours:\n",
    "#             label = neighbour[-1]  # Assuming the class label is the last element in the row\n",
    "#             if label in class_votes:\n",
    "#                 class_votes[label] += 1\n",
    "#             else:\n",
    "#                 class_votes[label] = 1\n",
    "        \n",
    "#         # Return the class label with the most votes\n",
    "#         predicted_label = max(class_votes, key=class_votes.get)\n",
    "#         return predicted_label\n",
    "\n",
    "#     def predict_batch(self, test_dataset):\n",
    "#         predictions = []\n",
    "#         for test_row in test_dataset:\n",
    "#             predictions.append(self.predict(test_row))\n",
    "#         return predictions\n",
    "\n",
    "#     def get_neighbours(self, k, train_dataset, test_row):\n",
    "#         max_heap = []\n",
    "\n",
    "#         for row in train_dataset:\n",
    "#             dist = self.metric(row, test_row)\n",
    "#             if len(max_heap) < k:\n",
    "#                 heapq.heappush(max_heap, (-dist, row))\n",
    "#             else:\n",
    "#                 if -dist > max_heap[0][0]:\n",
    "#                     heapq.heapreplace(max_heap, (-dist, row))\n",
    "\n",
    "#         neighbours = [row for (_, row) in max_heap]\n",
    "#         return neighbours\n",
    "\n"
   ]
  },
  {
   "cell_type": "code",
   "execution_count": 177,
   "metadata": {},
   "outputs": [],
   "source": [
    "from tqdm import tqdm\n",
    "from collections import Counter\n",
    "\n",
    "# class KNN:\n",
    "#     def __init__(self, k, metric, vectorized=None):\n",
    "#         self.k = k\n",
    "#         self.distance_metrics = metric\n",
    "#         # self.train_dataset = []\n",
    "#         # self.val_dataset = []\n",
    "#         # self.test_dataset = []\n",
    "#         self.X_train = list()\n",
    "#         self.y_train = list()\n",
    "#         self.vectorization = 0\n",
    "#         if vectorized == 'Vectorization':\n",
    "#             self.vectorization = 1\n",
    "\n",
    "#         if self.vectorization:\n",
    "#             if self.distance_metrics == \"euclidean\":\n",
    "#                 self.dist_func = optim_euclidean_distance\n",
    "#             elif self.distance_metrics == \"manhattan\":\n",
    "#                 self.dist_func = optim_manhattan_distance\n",
    "#             elif self.distance_metrics == \"cosine\":\n",
    "#                 self.dist_func = optim_cosine_distance\n",
    "\n",
    "#         if self.distance_metrics == \"euclidean\":\n",
    "#             self.dist_func = euclidean_distance\n",
    "#         elif self.distance_metrics == \"manhattan\":\n",
    "#             self.dist_func = manhattan_distance\n",
    "#         elif self.distance_metrics == \"cosine\":\n",
    "#             self.dist_func = cosine_distance\n",
    "\n",
    "#     def fit(self, train_data_X, train_data_Y):\n",
    "#         self.X_train = train_data_X\n",
    "#         self.y_train = train_data_Y\n",
    "#         # self.val_dataset = val_dataset if val_dataset is not None else []\n",
    "\n",
    "#     # def predict(self, test_row):\n",
    "#     #     k_nearest_neighbours = self.get_neighbours(self.k, self.train_dataset, test_row)\n",
    "        \n",
    "#     #     class_votes = {}\n",
    "#     #     for neighbour in k_nearest_neighbours:\n",
    "#     #         label = neighbour[-1]\n",
    "#     #         if label in class_votes:\n",
    "#     #             class_votes[label] += 1\n",
    "#     #         else:\n",
    "#     #             class_votes[label] = 1\n",
    "        \n",
    "#     #     predicted_label = max(class_votes, key=class_votes.get)\n",
    "#     #     return predicted_label\n",
    "    \n",
    "#     def predict(self, test_row):\n",
    "#         distances = self.dist_func(np.array(self.train_dataset)[:, :-1], test_row)\n",
    "#         sorted_indices = np.argsort(distances)\n",
    "#         k_nearest = [self.train_dataset[i][-1] for i in sorted_indices[:self.k]]\n",
    "#         most_common = Counter(k_nearest).most_common(1)[0][0]\n",
    "#         return most_common\n",
    "\n",
    "#     def predict_batch(self, test_dataset, class_attr):\n",
    "#         predictions = []\n",
    "#         for test_row in tqdm(test_dataset, desc=\"Predicting\", unit=\"sample\"):\n",
    "#             predictions.append(self.predict(test_row, class_attr))\n",
    "#         return predictions\n",
    "\n",
    "#     def get_neighbours(self, k, train_dataset, test_row):\n",
    "#         distances = [(self.dist_func(row, test_row), row) for row in train_dataset]\n",
    "#         distances.sort(key=lambda x: x[0])\n",
    "#         neighbours = [row for _, row in distances[:k]]\n",
    "#         return neighbours\n",
    "\n",
    "from joblib import Parallel, delayed\n",
    "class KNN:\n",
    "    def __init__(self, k, metric, vectorized=None):\n",
    "        self.k = k\n",
    "        self.distance_metrics = metric\n",
    "        self.X_train = list()\n",
    "        self.y_train = list()\n",
    "        self.vectorization = 0\n",
    "        if vectorized == 'Vectorization':\n",
    "            self.vectorization = 1\n",
    "\n",
    "        if self.vectorization == 0:\n",
    "            if self.distance_metrics == \"euclidean\":\n",
    "                self.dist_func = euclidean_distance\n",
    "            elif self.distance_metrics == \"manhattan\":\n",
    "                self.dist_func = manhattan_distance\n",
    "            elif self.distance_metrics == \"cosine\":\n",
    "                self.dist_func = cosine_distance\n",
    "\n",
    "    def fit(self, train_data_X, train_data_Y):\n",
    "        self.X_train = train_data_X\n",
    "        self.y_train = train_data_Y\n",
    "\n",
    "    def predict(self, test_row):\n",
    "        # Calculate the distances between the test_row and all training data\n",
    "        # distances = self.dist_func(self.X_train, test_row)\n",
    "        if self.vectorization:\n",
    "            distances = self.distance_optim(test_row)\n",
    "        else:\n",
    "            distances = self.dist_func(self.X_train, test_row)\n",
    "        \n",
    "        # Get the indices of the k smallest distances\n",
    "        sorted_indices = np.argsort(distances)\n",
    "        \n",
    "        # Get the labels of the k nearest neighbors\n",
    "        k_nearest = [self.y_train[i] for i in sorted_indices[:self.k]]\n",
    "        \n",
    "        # Get the most common label among the nearest neighbors\n",
    "        # most_common = Counter(k_nearest).most_common(1)[0][0]\n",
    "        most_common = np.bincount(k_nearest).argmax()\n",
    "        return most_common\n",
    "\n",
    "    def predict_batch(self, test_X):\n",
    "        predictions = Parallel(n_jobs=1)(delayed(self.predict)(test_X[i]) for i in tqdm(range(len(test_X))))\n",
    "\n",
    "        return predictions\n",
    "\n",
    "    # def get_neighbours(self, k, train_dataset, test_row):\n",
    "    #     distances = [(self.dist_func(row, test_row), row) for row in train_dataset]\n",
    "    #     distances.sort(key=lambda x: x[0])\n",
    "    #     neighbours = [row for _, row in distances[:k]]\n",
    "    #     return neighbours\n",
    "    def distance_optim(self, X_query):\n",
    "        if self.distance_metrics == \"euclidean\":\n",
    "            return np.sqrt(np.sum((self.X_train - X_query)**2, axis=1))\n",
    "        elif self.distance_metrics == \"manhattan\":\n",
    "            return np.sum(np.abs(self.X_train - X_query), axis=1)\n",
    "        elif self.distance_metrics == \"cosine\":\n",
    "            norm_X_train = np.linalg.norm(self.X_train, axis=1)\n",
    "            norm_X_query = np.linalg.norm(X_query)\n",
    "            eps = 1e-10\n",
    "            return 1 - (np.dot(self.X_train, X_query.T) / (norm_X_train * norm_X_query + eps))\n",
    "        \n",
    "    # def distance_normal(self, X_query):\n",
    "    #     return \n",
    "\n"
   ]
  },
  {
   "cell_type": "code",
   "execution_count": 164,
   "metadata": {},
   "outputs": [],
   "source": [
    "# class Metrics:\n",
    "#     @staticmethod\n",
    "#     def accuracy(Y_pred, Y):\n",
    "#         return np.mean(Y == Y_pred)\n",
    "\n",
    "#     @staticmethod\n",
    "#     def precision(Y_pred, Y, key='macro'):\n",
    "#         classes = np.unique(Y)\n",
    "#         tp = {cls: 0 for cls in classes}\n",
    "#         fp = {cls: 0 for cls in classes}\n",
    "\n",
    "#         for cls in classes:\n",
    "#             tp[cls] = np.sum((Y_pred == cls) & (Y == cls))\n",
    "#             fp[cls] = np.sum((Y_pred == cls) & (Y != cls))\n",
    "\n",
    "#         if key == 'macro':\n",
    "#             precisions = [tp[cls] / (tp[cls] + fp[cls]) if (tp[cls] + fp[cls]) > 0 else 0 for cls in classes]\n",
    "#             return np.mean(precisions)\n",
    "#         elif key == 'micro':\n",
    "#             total_tp = np.sum(list(tp.values()))\n",
    "#             total_fp = np.sum(list(fp.values()))\n",
    "#             return total_tp / (total_tp + total_fp) if (total_tp + total_fp) > 0 else 0\n",
    "\n",
    "#     @staticmethod\n",
    "#     def recall(Y_pred, Y, key='macro'):\n",
    "#         classes = np.unique(Y)\n",
    "#         tp = {cls: 0 for cls in classes}\n",
    "#         fn = {cls: 0 for cls in classes}\n",
    "\n",
    "#         for cls in classes:\n",
    "#             tp[cls] = np.sum((Y_pred == cls) & (Y == cls))\n",
    "#             fn[cls] = np.sum((Y_pred != cls) & (Y == cls))\n",
    "\n",
    "#         if key == 'macro':\n",
    "#             recalls = [tp[cls] / (tp[cls] + fn[cls]) if (tp[cls] + fn[cls]) > 0 else 0 for cls in classes]\n",
    "#             return np.mean(recalls)\n",
    "#         elif key == 'micro':\n",
    "#             total_tp = np.sum(list(tp.values()))\n",
    "#             total_fn = np.sum(list(fn.values()))\n",
    "#             return total_tp / (total_tp + total_fn) if (total_tp + total_fn) > 0 else 0\n",
    "\n",
    "#     @staticmethod\n",
    "#     def f1_score(Y_pred, Y, key='macro'):\n",
    "#         precision = Metrics.precision(Y_pred, Y, key)\n",
    "#         recall = Metrics.recall(Y_pred, Y, key)\n",
    "#         return 2 * (precision * recall) / (precision + recall) if (precision + recall) > 0 else 0\n"
   ]
  },
  {
   "cell_type": "code",
   "execution_count": 165,
   "metadata": {},
   "outputs": [],
   "source": [
    "# class PerformanceMetrics:\n",
    "#     def __init__(self, y_true, y_pred):\n",
    "#         self.y_true = y_true\n",
    "#         self.y_pred = y_pred\n",
    "#         self.classes = set(y_true)\n",
    "        \n",
    "#     def accuracy(self):\n",
    "#         correct_predictions = sum(1 for true, pred in zip(self.y_true, self.y_pred) if true == pred)\n",
    "#         return correct_predictions / len(self.y_true)\n",
    "    \n",
    "#     def precision(self, average='macro'):\n",
    "#         if average == 'macro':\n",
    "#             precisions = []\n",
    "#             for cls in self.classes:\n",
    "#                 true_positives = sum(1 for true, pred in zip(self.y_true, self.y_pred) if true == pred == cls)\n",
    "#                 predicted_positives = sum(1 for pred in self.y_pred if pred == cls)\n",
    "#                 precision = true_positives / predicted_positives if predicted_positives > 0 else 0\n",
    "#                 precisions.append(precision)\n",
    "#             return sum(precisions) / len(self.classes)\n",
    "        \n",
    "#         elif average == 'micro':\n",
    "#             true_positives = sum(1 for true, pred in zip(self.y_true, self.y_pred) if true == pred)\n",
    "#             predicted_positives = len(self.y_pred)\n",
    "#             return true_positives / predicted_positives\n",
    "\n",
    "#     def recall(self, average='macro'):\n",
    "#         if average == 'macro':\n",
    "#             recalls = []\n",
    "#             for cls in self.classes:\n",
    "#                 true_positives = sum(1 for true, pred in zip(self.y_true, self.y_pred) if true == pred == cls)\n",
    "#                 actual_positives = sum(1 for true in self.y_true if true == cls)\n",
    "#                 recall = true_positives / actual_positives if actual_positives > 0 else 0\n",
    "#                 recalls.append(recall)\n",
    "#             return sum(recalls) / len(self.classes)\n",
    "        \n",
    "#         elif average == 'micro':\n",
    "#             true_positives = sum(1 for true, pred in zip(self.y_true, self.y_pred) if true == pred)\n",
    "#             actual_positives = len(self.y_true)\n",
    "#             return true_positives / actual_positives\n",
    "\n",
    "#     def f1_score(self, average='macro'):\n",
    "#         if average == 'macro':\n",
    "#             precisions = []\n",
    "#             recalls = []\n",
    "#             f1_scores = []\n",
    "#             for cls in self.classes:\n",
    "#                 true_positives = sum(1 for true, pred in zip(self.y_true, self.y_pred) if true == pred == cls)\n",
    "                \n",
    "#                 predicted_positives = sum(1 for pred in self.y_pred if pred == cls)\n",
    "#                 precision = true_positives / predicted_positives if predicted_positives > 0 else 0\n",
    "                \n",
    "#                 actual_positives = sum(1 for true in self.y_true if true == cls)\n",
    "#                 recall = true_positives / actual_positives if actual_positives > 0 else 0\n",
    "                \n",
    "#                 if precision + recall > 0:\n",
    "#                     f1 = 2 * (precision * recall) / (precision + recall)\n",
    "#                 else:\n",
    "#                     f1 = 0\n",
    "                \n",
    "#                 f1_scores.append(f1)\n",
    "#             return sum(f1_scores) / len(self.classes)\n",
    "        \n",
    "#         elif average == 'micro':\n",
    "#             true_positives = sum(1 for true, pred in zip(self.y_true, self.y_pred) if true == pred)\n",
    "#             predicted_positives = len(self.y_pred)\n",
    "#             actual_positives = len(self.y_true)\n",
    "#             precision = true_positives / predicted_positives\n",
    "#             recall = true_positives / actual_positives\n",
    "#             return 2 * (precision * recall) / (precision + recall) if precision + recall != 0 else -float(inf)\n",
    "    \n",
    "#     def evaluate(self):\n",
    "#         return {\n",
    "#             \"accuracy\": self.accuracy(),\n",
    "#             \"precision_macro\": self.precision(average='macro'),\n",
    "#             \"recall_macro\": self.recall(average='macro'),\n",
    "#             \"f1_score_macro\": self.f1_score(average='macro'),\n",
    "#             \"precision_micro\": self.precision(average='micro'),\n",
    "#             \"recall_micro\": self.recall(average='micro'),\n",
    "#             \"f1_score_micro\": self.f1_score(average='micro')\n",
    "#         }\n",
    "#         # return {\n",
    "#         #     \"accuracy\": self.accuracy()\n",
    "#         # }\n",
    "\n",
    "class PerformanceMetrics:\n",
    "    def __init__(self, y_true, y_pred):\n",
    "        self.y_true = np.array(y_true)\n",
    "        self.y_pred = np.array(y_pred)\n",
    "        self.classes = np.unique(y_true)\n",
    "\n",
    "    def accuracy(self):\n",
    "        return np.mean(self.y_true == self.y_pred)\n",
    "\n",
    "    def precision(self, key):\n",
    "        if key == 'macro':\n",
    "            precisions = []\n",
    "            for cls in self.classes:\n",
    "                true_positive = np.sum((self.y_pred == cls) & (self.y_true == cls))\n",
    "                predicted_positive = np.sum(self.y_pred == cls)\n",
    "                precision = true_positive / predicted_positive if predicted_positive > 0 else 0\n",
    "                precisions.append(precision)\n",
    "            return np.mean(precisions)\n",
    "        elif key == 'micro':\n",
    "            true_positive = np.sum(self.y_pred == self.y_true)\n",
    "            predicted_positive = len(self.y_pred)\n",
    "            return true_positive / predicted_positive if predicted_positive > 0 else 0\n",
    "\n",
    "    def recall(self, key):\n",
    "        if key == 'macro':\n",
    "            recalls = []\n",
    "            for cls in self.classes:\n",
    "                true_positive = np.sum((self.y_pred == cls) & (self.y_true == cls))\n",
    "                actual_positive = np.sum(self.y_true == cls)\n",
    "                recall = true_positive / actual_positive if actual_positive > 0 else 0\n",
    "                recalls.append(recall)\n",
    "            return np.mean(recalls)\n",
    "        elif key == 'micro':\n",
    "            true_positive = np.sum(self.y_pred == self.y_true)\n",
    "            actual_positive = len(self.y_true)\n",
    "            return true_positive / actual_positive if actual_positive > 0 else 0\n",
    "\n",
    "    def f1_score(self, key):\n",
    "        precision = self.precision(key)\n",
    "        recall = self.recall(key)\n",
    "        return 2 * (precision * recall) / (precision + recall) if (precision + recall) > 0 else 0\n",
    "\n",
    "    def evaluate(self):\n",
    "        return {\n",
    "            \"accuracy\": self.accuracy(),\n",
    "            \"precision_macro\": self.precision(key='macro'),\n",
    "            \"recall_macro\": self.recall(key='macro'),\n",
    "            \"f1_score_macro\": self.f1_score(key='macro'),\n",
    "            \"precision_micro\": self.precision(key='micro'),\n",
    "            \"recall_micro\": self.recall(key='micro'),\n",
    "            \"f1_score_micro\": self.f1_score(key='micro')\n",
    "        }\n"
   ]
  },
  {
   "cell_type": "code",
   "execution_count": null,
   "metadata": {},
   "outputs": [
    {
     "name": "stderr",
     "output_type": "stream",
     "text": [
      "\n",
      "\u001b[A"
     ]
    }
   ],
   "source": [
    "# Load the training data from CSV\n",
    "train_data = pd.read_csv(train_data_path)\n",
    "val_data = pd.read_csv(val_data_path)\n",
    "\n",
    "# Remove the first column (serial number) and extract features and labels\n",
    "X_train = train_data.iloc[:, 1:-1].values  # Features from training data\n",
    "y_train = train_data['track_genre'].values  # Labels from training data\n",
    "\n",
    "X_val = val_data.iloc[:, 1:-1].values  # Features from validation data\n",
    "y_val = val_data['track_genre'].values  # Labels from validation data"
   ]
  },
  {
   "cell_type": "code",
   "execution_count": null,
   "metadata": {},
   "outputs": [],
   "source": [
    "import time\n",
    "def evaluate_knn(k_nearest, dist_metric, vectorization=None):\n",
    "    knn = KNN(k_nearest, dist_metric, vectorization)\n",
    "    knn.fit(X_train, y_train)\n",
    "    y_pred = knn.predict_batch(X_val)\n",
    "    # return Metrics.accuracy(Y_pred, encoded_Y_test)\n",
    "    perf=PerformanceMetrics(y_val, y_pred)\n",
    "    print(perf.evaluate())\n",
    "    return y_pred\n",
    "    # print(Metrics.f1_score(Y_pred,encoded_Y_validation))\n",
    "    # print(Metrics.precision(Y_pred,encoded_Y_validation))\n",
    "    # print(Metrics.recall(Y_pred,encoded_Y_validation))\n",
    "    # print(Metrics.f1_score(Y_pred,encoded_Y_validation,key=\"micro\"))\n",
    "    # print(Metrics.precision(Y_pred,encoded_Y_validation,key=\"micro\"))\n",
    "    # print(Metrics.recall(Y_pred,encoded_Y_validation,key=\"micro\"))\n",
    "\n",
    "# Create KNN object\n",
    "k = 19  # Set the value of k\n",
    "metric = 'manhattan'  # Choose the distance metric\n",
    "# knn = KNN(k, metric)\n",
    "\n",
    "start = time.time()\n",
    "y_pred_2 = evaluate_knn(k,metric, 'Vectorization')\n",
    "vectorized_time = time.time() - start\n",
    "\n",
    "# Sklearn KNN Model\n",
    "from sklearn.neighbors import KNeighborsClassifier\n",
    "sklearn_knn = KNeighborsClassifier(n_neighbors=k, metric=metric)\n",
    "sklearn_knn.fit(X_train, y_train)\n",
    "start_time = time.time()\n",
    "sklearn_knn.predict(X_val)\n",
    "sklearn_time = time.time() - start_time\n"
   ]
  },
  {
   "cell_type": "code",
   "execution_count": null,
   "metadata": {},
   "outputs": [],
   "source": [
    "start = time.time()\n",
    "y_pred_1 = evaluate_knn(k,metric)\n",
    "normal_time = time.time() - start"
   ]
  },
  {
   "cell_type": "code",
   "execution_count": 169,
   "metadata": {},
   "outputs": [
    {
     "data": {
      "image/png": "[encoded data removed]",
      "text/plain": [
       "<Figure size 640x480 with 1 Axes>"
      ]
     },
     "metadata": {},
     "output_type": "display_data"
    }
   ],
   "source": [
    "import matplotlib.pyplot as plt\n",
    "# initial_times = []\n",
    "# optimized_times = []\n",
    "# sklearn_times = []\n",
    "\n",
    "# initial_times.append(normal_time)\n",
    "# optimized_times.append()\n",
    "# sklearn_times.append(sklearn_time)\n",
    "\n",
    "# Plot inference time comparison\n",
    "model_names = ['Initial KNN', 'Optimized KNN', 'Sklearn KNN']\n",
    "times = [normal_time, vectorized_time, sklearn_time]\n",
    "\n",
    "plt.bar(model_names, times)\n",
    "plt.ylabel('Inference Time (seconds)')\n",
    "plt.title('Inference Time Comparison')\n",
    "plt.show()\n",
    "\n",
    "\n",
    "# for size in dataset_sizes:\n",
    "#     subset = train_dataset[:size]\n",
    "    \n",
    "#     initial_knn.fit(subset)\n",
    "#     initial_times.append(measure_inference_time(initial_knn, X_val, 'track_genre'))\n",
    "    \n",
    "#     optimized_knn.fit(subset)\n",
    "#     optimized_times.append(measure_inference_time(optimized_knn, X_val, 'track_genre'))\n",
    "    \n",
    "#     sklearn_knn.fit(X_train[:size], y_train[:size])\n",
    "#     start_time = time.time()\n",
    "#     sklearn_knn.predict(X_val)\n",
    "#     sklearn_times.append(time.time() - start_time)\n",
    "\n",
    "# plt.plot(len(X_train), initial_times, label='Initial KNN')\n",
    "# plt.plot(len(X_train), optimized_times, label='Optimized KNN')\n",
    "# plt.plot(len(X_train), sklearn_times, label='Sklearn KNN')\n",
    "# plt.xlabel('Training Dataset Size')\n",
    "# plt.ylabel('Inference Time (seconds)')\n",
    "# plt.title('Inference Time vs Training Dataset Size')\n",
    "# plt.legend()\n",
    "# plt.show()"
   ]
  },
  {
   "cell_type": "code",
   "execution_count": 172,
   "metadata": {},
   "outputs": [
    {
     "name": "stdout",
     "output_type": "stream",
     "text": [
      "Initial Inference Time (s): 2160.494178056717\n",
      "\n",
      "Optimised Inference Time (s): 92.93741011619568\n",
      "\n",
      "Sklearn Inference Time (s): 4.132826805114746\n",
      "\n"
     ]
    }
   ],
   "source": [
    "# import matplotlib.pyplot as plt\n",
    "# # initial_times = []\n",
    "# # optimized_times = []\n",
    "# # sklearn_times = []\n",
    "\n",
    "# # initial_times.append(normal_time)\n",
    "# # optimized_times.append()\n",
    "# # sklearn_times.append(sklearn_time)\n",
    "\n",
    "# # Plot inference time comparison\n",
    "# model_names = ['Initial KNN', 'Optimized KNN', 'Sklearn KNN']\n",
    "# times = [normal_time, vectorized_time, sklearn_time]\n",
    "\n",
    "# plt.bar(model_names, times)\n",
    "# plt.ylabel('Inference Time (seconds)')\n",
    "# plt.title(f'Inference Time Comparison k={k}, metric={metric}')\n",
    "# plt.show()\n",
    "print(f\"Initial Inference Time (s): {normal_time}\")\n",
    "print()\n",
    "print(f\"Optimised Inference Time (s): {vectorized_time}\")\n",
    "print()\n",
    "print(f\"Sklearn Inference Time (s): {sklearn_time}\")\n",
    "print()"
   ]
  },
  {
   "cell_type": "code",
   "execution_count": 173,
   "metadata": {},
   "outputs": [],
   "source": [
    "# from tqdm import tqdm\n",
    "\n",
    "# # Predict the track genres on validation data with tqdm\n",
    "# y_pred = []\n",
    "# for val_row in tqdm(X_val, desc=\"Predicting\", unit=\"sample\"):\n",
    "#     y_pred.append(knn.predict(val_row))\n",
    "\n",
    "# # processing time 165 mins"
   ]
  },
  {
   "cell_type": "code",
   "execution_count": 174,
   "metadata": {},
   "outputs": [],
   "source": [
    "# print(y_val)\n",
    "# print(y_pred_2)\n",
    "# # print(X_val)\n",
    "\n",
    "# # # Get unique labels from y_train\n",
    "# # unique_labels = sorted(set(y_train))  # Sorting ensures consistency in mapping\n",
    "\n",
    "# # # Create the label mapping dictionary\n",
    "# # label_mapping = {label: idx for idx, label in enumerate(unique_labels)}\n",
    "\n",
    "# # # Inverse mapping (optional, for converting numeric predictions back to strings)\n",
    "# # inverse_label_mapping = {idx: label for label, idx in label_mapping.items()}\n",
    "\n",
    "# # # Display the mapping\n",
    "# # print(\"Label Mapping (String to Numeric):\", label_mapping)\n",
    "# # print(\"Inverse Label Mapping (Numeric to String):\", inverse_label_mapping)\n",
    "\n",
    "# # # Example: Convert y_train to numeric labels using the mapping\n",
    "# # y_train_numeric = [label_mapping[label] for label in y_train]\n",
    "\n",
    "# # # Use inverse mapping to convert numeric predictions to string labels\n",
    "# # # Assuming y_pred is a list of numeric predictions\n",
    "# # y_pred_str = [inverse_label_mapping[pred] for pred in y_pred]\n",
    "\n",
    "# # # Evaluate performance metrics using the validation data\n",
    "# # performance_metrics = PerformanceMetrics(y_true=y_val, y_pred=y_pred)\n",
    "# # metrics_result = performance_metrics.evaluate()\n",
    "\n",
    "# # # Display the results\n",
    "# # print(\"Performance Metrics on Validation Data:\")\n",
    "# # for metric_name, value in metrics_result.items():\n",
    "# #     print(f\"{metric_name}: {value:.4f}\")\n"
   ]
  },
  {
   "cell_type": "code",
   "execution_count": 130,
   "metadata": {},
   "outputs": [],
   "source": [
    "# dropping some features from the classification \n",
    "# dropping the numeric features : unnamed, duration\n",
    "# dropping the categorical features: track_id, artists, album_name, track_name, "
   ]
  },
  {
   "cell_type": "code",
   "execution_count": 178,
   "metadata": {},
   "outputs": [],
   "source": [
    "from tqdm import tqdm\n",
    "import time\n",
    "import matplotlib.pyplot as plt\n",
    "\n",
    "# Initialize the list to store results\n",
    "results = []\n",
    "\n",
    "# Define the range of k values and possible distance metrics\n",
    "max_k = 40\n",
    "k_values_0 = range(1, 11)\n",
    "k_values_1 = range(11, 21)\n",
    "k_values_2 = range(21, 31)\n",
    "k_values_3 = range(31, 41)\n",
    "\n",
    "possible_distance_metrics = [\"euclidean\", \"manhattan\", \"cosine\"]\n",
    "predictions={}"
   ]
  },
  {
   "cell_type": "code",
   "execution_count": null,
   "metadata": {},
   "outputs": [],
   "source": [
    "# Iterate over all k values and distance metrics with a progress bar\n",
    "for k in tqdm(k_values_0, desc=\"Processing k values\"):\n",
    "    for metric in possible_distance_metrics:\n",
    "        # Measure the start time\n",
    "        start_time = time.time()\n",
    "        \n",
    "        # Initialize the KNN model with the current k and distance metric\n",
    "        knn = KNN(k=k, metric=metric, vectorized='Vectorization')\n",
    "        \n",
    "        # Combine features and labels for training data\n",
    "        # train_dataset = [list(row) + [label] for row, label in zip(X_train, y_train)]\n",
    "        \n",
    "        # Fit the model\n",
    "        knn.fit(train_data_X=X_train, train_data_Y=y_train)\n",
    "        \n",
    "        # Predict on validation data\n",
    "        y_pred = knn.predict_batch(X_val)\n",
    "        # y_pred_str = [inverse_label_mapping[pred] for pred in y_pred]\n",
    "        # predictions[{k:metric}]=y_pred_str\n",
    "        \n",
    "        # Calculate validation accuracy\n",
    "        performance_metrics = PerformanceMetrics(y_true=y_val, y_pred=y_pred)\n",
    "        accuracy = performance_metrics.accuracy()\n",
    "        \n",
    "        # Measure the end time and calculate the processing time\n",
    "        end_time = time.time()\n",
    "        processing_time = end_time - start_time\n",
    "        \n",
    "        # Store the k, metric, accuracy, and processing time\n",
    "        results.append({\n",
    "            'k': k,\n",
    "            'metric': metric,\n",
    "            'accuracy': accuracy,\n",
    "            'processing_time': processing_time\n",
    "        })\n",
    "        \n",
    "        # Print a message indicating completion of this iteration\n",
    "        print(f\"Completed k={k}, metric={metric}. Processing time: {processing_time:.4f} seconds\")\n"
   ]
  },
  {
   "cell_type": "code",
   "execution_count": null,
   "metadata": {},
   "outputs": [],
   "source": [
    "\n",
    "# Iterate over all k values and distance metrics with a progress bar\n",
    "for k in tqdm(k_values_1, desc=\"Processing k values\"):\n",
    "    for metric in possible_distance_metrics:\n",
    "        # Measure the start time\n",
    "        start_time = time.time()\n",
    "        \n",
    "        # Initialize the KNN model with the current k and distance metric\n",
    "        knn = KNN(k=k, metric=metric, vectorized='Vectorization')\n",
    "        \n",
    "        # Combine features and labels for training data\n",
    "        # train_dataset = [list(row) + [label] for row, label in zip(X_train, y_train)]\n",
    "        \n",
    "        # Fit the model\n",
    "        knn.fit(train_data_X=X_train, train_data_Y=y_train)\n",
    "        \n",
    "        # Predict on validation data\n",
    "        y_pred = knn.predict_batch(X_val)\n",
    "        # y_pred_str = [inverse_label_mapping[pred] for pred in y_pred]\n",
    "        # predictions[{k:metric}]=y_pred_str\n",
    "        \n",
    "        # Calculate validation accuracy\n",
    "        performance_metrics = PerformanceMetrics(y_true=y_val, y_pred=y_pred)\n",
    "        accuracy = performance_metrics.accuracy()\n",
    "        \n",
    "        # Measure the end time and calculate the processing time\n",
    "        end_time = time.time()\n",
    "        processing_time = end_time - start_time\n",
    "        \n",
    "        # Store the k, metric, accuracy, and processing time\n",
    "        results.append({\n",
    "            'k': k,\n",
    "            'metric': metric,\n",
    "            'accuracy': accuracy,\n",
    "            'processing_time': processing_time\n",
    "        })\n",
    "        \n",
    "        # Print a message indicating completion of this iteration\n",
    "        print(f\"Completed k={k}, metric={metric}. Processing time: {processing_time:.4f} seconds\")\n"
   ]
  },
  {
   "cell_type": "code",
   "execution_count": 182,
   "metadata": {},
   "outputs": [],
   "source": [
    "import pickle\n",
    "# Save the list to a .txt file\n",
    "with open('my_list.txt', 'wb') as file:  # Use 'wb' for binary mode\n",
    "    pickle.dump(results, file)\n"
   ]
  },
  {
   "cell_type": "code",
   "execution_count": 183,
   "metadata": {},
   "outputs": [
    {
     "name": "stderr",
     "output_type": "stream",
     "text": [
      "100%|██████████| 8974/8974 [01:29<00:00, 100.82it/s] ?it/s]\n"
     ]
    },
    {
     "name": "stdout",
     "output_type": "stream",
     "text": [
      "Completed k=21, metric=euclidean. Processing time: 89.0368 seconds\n"
     ]
    },
    {
     "name": "stderr",
     "output_type": "stream",
     "text": [
      "100%|██████████| 8974/8974 [01:32<00:00, 96.90it/s] \n"
     ]
    },
    {
     "name": "stdout",
     "output_type": "stream",
     "text": [
      "Completed k=21, metric=manhattan. Processing time: 92.6300 seconds\n"
     ]
    },
    {
     "name": "stderr",
     "output_type": "stream",
     "text": [
      "100%|██████████| 8974/8974 [02:19<00:00, 64.42it/s]\n",
      "Processing k values:  10%|█         | 1/10 [05:21<48:09, 321.00s/it]"
     ]
    },
    {
     "name": "stdout",
     "output_type": "stream",
     "text": [
      "Completed k=21, metric=cosine. Processing time: 139.3375 seconds\n"
     ]
    },
    {
     "name": "stderr",
     "output_type": "stream",
     "text": [
      "100%|██████████| 8974/8974 [01:26<00:00, 103.43it/s]\n"
     ]
    },
    {
     "name": "stdout",
     "output_type": "stream",
     "text": [
      "Completed k=22, metric=euclidean. Processing time: 86.7964 seconds\n"
     ]
    },
    {
     "name": "stderr",
     "output_type": "stream",
     "text": [
      "100%|██████████| 8974/8974 [01:35<00:00, 94.02it/s]\n"
     ]
    },
    {
     "name": "stdout",
     "output_type": "stream",
     "text": [
      "Completed k=22, metric=manhattan. Processing time: 95.4646 seconds\n"
     ]
    },
    {
     "name": "stderr",
     "output_type": "stream",
     "text": [
      "100%|██████████| 8974/8974 [02:21<00:00, 63.49it/s]\n",
      "Processing k values:  20%|██        | 2/10 [10:44<43:00, 322.56s/it]"
     ]
    },
    {
     "name": "stdout",
     "output_type": "stream",
     "text": [
      "Completed k=22, metric=cosine. Processing time: 141.3879 seconds\n"
     ]
    },
    {
     "name": "stderr",
     "output_type": "stream",
     "text": [
      "100%|██████████| 8974/8974 [01:27<00:00, 102.77it/s]\n"
     ]
    },
    {
     "name": "stdout",
     "output_type": "stream",
     "text": [
      "Completed k=23, metric=euclidean. Processing time: 87.3596 seconds\n"
     ]
    },
    {
     "name": "stderr",
     "output_type": "stream",
     "text": [
      "100%|██████████| 8974/8974 [01:30<00:00, 99.03it/s]\n"
     ]
    },
    {
     "name": "stdout",
     "output_type": "stream",
     "text": [
      "Completed k=23, metric=manhattan. Processing time: 90.6404 seconds\n"
     ]
    },
    {
     "name": "stderr",
     "output_type": "stream",
     "text": [
      "100%|██████████| 8974/8974 [01:37<00:00, 91.71it/s]\n",
      "Processing k values:  30%|███       | 3/10 [15:20<35:08, 301.25s/it]"
     ]
    },
    {
     "name": "stdout",
     "output_type": "stream",
     "text": [
      "Completed k=23, metric=cosine. Processing time: 97.8901 seconds\n"
     ]
    },
    {
     "name": "stderr",
     "output_type": "stream",
     "text": [
      "100%|██████████| 8974/8974 [01:25<00:00, 105.42it/s]\n"
     ]
    },
    {
     "name": "stdout",
     "output_type": "stream",
     "text": [
      "Completed k=24, metric=euclidean. Processing time: 85.1460 seconds\n"
     ]
    },
    {
     "name": "stderr",
     "output_type": "stream",
     "text": [
      "100%|██████████| 8974/8974 [01:34<00:00, 94.99it/s]\n"
     ]
    },
    {
     "name": "stdout",
     "output_type": "stream",
     "text": [
      "Completed k=24, metric=manhattan. Processing time: 94.4921 seconds\n"
     ]
    },
    {
     "name": "stderr",
     "output_type": "stream",
     "text": [
      "100%|██████████| 8974/8974 [01:50<00:00, 81.06it/s]\n",
      "Processing k values:  40%|████      | 4/10 [20:10<29:41, 296.96s/it]"
     ]
    },
    {
     "name": "stdout",
     "output_type": "stream",
     "text": [
      "Completed k=24, metric=cosine. Processing time: 110.7501 seconds\n"
     ]
    },
    {
     "name": "stderr",
     "output_type": "stream",
     "text": [
      "100%|██████████| 8974/8974 [01:29<00:00, 100.74it/s]\n"
     ]
    },
    {
     "name": "stdout",
     "output_type": "stream",
     "text": [
      "Completed k=25, metric=euclidean. Processing time: 89.1106 seconds\n"
     ]
    },
    {
     "name": "stderr",
     "output_type": "stream",
     "text": [
      "100%|██████████| 8974/8974 [01:34<00:00, 94.65it/s]\n"
     ]
    },
    {
     "name": "stdout",
     "output_type": "stream",
     "text": [
      "Completed k=25, metric=manhattan. Processing time: 94.8356 seconds\n"
     ]
    },
    {
     "name": "stderr",
     "output_type": "stream",
     "text": [
      "100%|██████████| 8974/8974 [01:45<00:00, 85.25it/s]\n",
      "Processing k values:  50%|█████     | 5/10 [25:00<24:30, 294.18s/it]"
     ]
    },
    {
     "name": "stdout",
     "output_type": "stream",
     "text": [
      "Completed k=25, metric=cosine. Processing time: 105.2895 seconds\n"
     ]
    },
    {
     "name": "stderr",
     "output_type": "stream",
     "text": [
      "100%|██████████| 8974/8974 [01:25<00:00, 105.43it/s]\n"
     ]
    },
    {
     "name": "stdout",
     "output_type": "stream",
     "text": [
      "Completed k=26, metric=euclidean. Processing time: 85.1398 seconds\n"
     ]
    },
    {
     "name": "stderr",
     "output_type": "stream",
     "text": [
      "100%|██████████| 8974/8974 [02:00<00:00, 74.34it/s] \n"
     ]
    },
    {
     "name": "stdout",
     "output_type": "stream",
     "text": [
      "Completed k=26, metric=manhattan. Processing time: 120.7302 seconds\n"
     ]
    },
    {
     "name": "stderr",
     "output_type": "stream",
     "text": [
      "100%|██████████| 8974/8974 [01:21<00:00, 110.02it/s]\n",
      "Processing k values:  60%|██████    | 6/10 [29:47<19:27, 291.90s/it]"
     ]
    },
    {
     "name": "stdout",
     "output_type": "stream",
     "text": [
      "Completed k=26, metric=cosine. Processing time: 81.5957 seconds\n"
     ]
    },
    {
     "name": "stderr",
     "output_type": "stream",
     "text": [
      "100%|██████████| 8974/8974 [00:52<00:00, 171.49it/s]\n"
     ]
    },
    {
     "name": "stdout",
     "output_type": "stream",
     "text": [
      "Completed k=27, metric=euclidean. Processing time: 52.3455 seconds\n"
     ]
    },
    {
     "name": "stderr",
     "output_type": "stream",
     "text": [
      "100%|██████████| 8974/8974 [00:55<00:00, 160.94it/s]\n"
     ]
    },
    {
     "name": "stdout",
     "output_type": "stream",
     "text": [
      "Completed k=27, metric=manhattan. Processing time: 55.7693 seconds\n"
     ]
    },
    {
     "name": "stderr",
     "output_type": "stream",
     "text": [
      "100%|██████████| 8974/8974 [01:10<00:00, 126.65it/s]\n",
      "Processing k values:  70%|███████   | 7/10 [32:46<12:44, 254.99s/it]"
     ]
    },
    {
     "name": "stdout",
     "output_type": "stream",
     "text": [
      "Completed k=27, metric=cosine. Processing time: 70.8896 seconds\n"
     ]
    },
    {
     "name": "stderr",
     "output_type": "stream",
     "text": [
      "100%|██████████| 8974/8974 [00:52<00:00, 170.65it/s]\n"
     ]
    },
    {
     "name": "stdout",
     "output_type": "stream",
     "text": [
      "Completed k=28, metric=euclidean. Processing time: 52.5999 seconds\n"
     ]
    },
    {
     "name": "stderr",
     "output_type": "stream",
     "text": [
      "100%|██████████| 8974/8974 [00:55<00:00, 161.83it/s]\n"
     ]
    },
    {
     "name": "stdout",
     "output_type": "stream",
     "text": [
      "Completed k=28, metric=manhattan. Processing time: 55.4647 seconds\n"
     ]
    },
    {
     "name": "stderr",
     "output_type": "stream",
     "text": [
      "100%|██████████| 8974/8974 [01:15<00:00, 118.99it/s]\n",
      "Processing k values:  80%|████████  | 8/10 [35:50<07:44, 232.23s/it]"
     ]
    },
    {
     "name": "stdout",
     "output_type": "stream",
     "text": [
      "Completed k=28, metric=cosine. Processing time: 75.4467 seconds\n"
     ]
    },
    {
     "name": "stderr",
     "output_type": "stream",
     "text": [
      "100%|██████████| 8974/8974 [00:52<00:00, 171.20it/s]\n"
     ]
    },
    {
     "name": "stdout",
     "output_type": "stream",
     "text": [
      "Completed k=29, metric=euclidean. Processing time: 52.4371 seconds\n"
     ]
    },
    {
     "name": "stderr",
     "output_type": "stream",
     "text": [
      "100%|██████████| 8974/8974 [01:00<00:00, 148.61it/s]\n"
     ]
    },
    {
     "name": "stdout",
     "output_type": "stream",
     "text": [
      "Completed k=29, metric=manhattan. Processing time: 60.4053 seconds\n"
     ]
    },
    {
     "name": "stderr",
     "output_type": "stream",
     "text": [
      "100%|██████████| 8974/8974 [01:31<00:00, 97.96it/s]\n",
      "Processing k values:  90%|█████████ | 9/10 [39:14<03:43, 223.57s/it]"
     ]
    },
    {
     "name": "stdout",
     "output_type": "stream",
     "text": [
      "Completed k=29, metric=cosine. Processing time: 91.6616 seconds\n"
     ]
    },
    {
     "name": "stderr",
     "output_type": "stream",
     "text": [
      "100%|██████████| 8974/8974 [00:53<00:00, 166.77it/s]\n"
     ]
    },
    {
     "name": "stdout",
     "output_type": "stream",
     "text": [
      "Completed k=30, metric=euclidean. Processing time: 53.8254 seconds\n"
     ]
    },
    {
     "name": "stderr",
     "output_type": "stream",
     "text": [
      "100%|██████████| 8974/8974 [00:59<00:00, 150.35it/s]\n"
     ]
    },
    {
     "name": "stdout",
     "output_type": "stream",
     "text": [
      "Completed k=30, metric=manhattan. Processing time: 59.7005 seconds\n"
     ]
    },
    {
     "name": "stderr",
     "output_type": "stream",
     "text": [
      "100%|██████████| 8974/8974 [01:29<00:00, 100.82it/s]\n",
      "Processing k values: 100%|██████████| 10/10 [42:37<00:00, 255.72s/it]"
     ]
    },
    {
     "name": "stdout",
     "output_type": "stream",
     "text": [
      "Completed k=30, metric=cosine. Processing time: 89.0302 seconds\n"
     ]
    },
    {
     "name": "stderr",
     "output_type": "stream",
     "text": [
      "\n"
     ]
    }
   ],
   "source": [
    "# Iterate over all k values and distance metrics with a progress bar\n",
    "for k in tqdm(k_values_2, desc=\"Processing k values\"):\n",
    "    for metric in possible_distance_metrics:\n",
    "        # Measure the start time\n",
    "        start_time = time.time()\n",
    "        \n",
    "        # Initialize the KNN model with the current k and distance metric\n",
    "        knn = KNN(k=k, metric=metric, vectorized='Vectorization')\n",
    "        \n",
    "        # Combine features and labels for training data\n",
    "        # train_dataset = [list(row) + [label] for row, label in zip(X_train, y_train)]\n",
    "        \n",
    "        # Fit the model\n",
    "        knn.fit(train_data_X=X_train, train_data_Y=y_train)\n",
    "        \n",
    "        # Predict on validation data\n",
    "        y_pred = knn.predict_batch(X_val)\n",
    "        # y_pred_str = [inverse_label_mapping[pred] for pred in y_pred]\n",
    "        # predictions[{k:metric}]=y_pred_str\n",
    "        \n",
    "        # Calculate validation accuracy\n",
    "        performance_metrics = PerformanceMetrics(y_true=y_val, y_pred=y_pred)\n",
    "        accuracy = performance_metrics.accuracy()\n",
    "        \n",
    "        # Measure the end time and calculate the processing time\n",
    "        end_time = time.time()\n",
    "        processing_time = end_time - start_time\n",
    "        \n",
    "        # Store the k, metric, accuracy, and processing time\n",
    "        results.append({\n",
    "            'k': k,\n",
    "            'metric': metric,\n",
    "            'accuracy': accuracy,\n",
    "            'processing_time': processing_time\n",
    "        })\n",
    "        \n",
    "        # Print a message indicating completion of this iteration\n",
    "        print(f\"Completed k={k}, metric={metric}. Processing time: {processing_time:.4f} seconds\")\n"
   ]
  },
  {
   "cell_type": "code",
   "execution_count": null,
   "metadata": {},
   "outputs": [],
   "source": [
    "# # Iterate over all k values and distance metrics with a progress bar\n",
    "# for k in tqdm(k_values_3, desc=\"Processing k values\"):\n",
    "#     for metric in possible_distance_metrics:\n",
    "#         # Measure the start time\n",
    "#         start_time = time.time()\n",
    "        \n",
    "#         # Initialize the KNN model with the current k and distance metric\n",
    "#         knn = KNN(k=k, metric=metric, vectorized='Vectorization')\n",
    "        \n",
    "#         # Combine features and labels for training data\n",
    "#         # train_dataset = [list(row) + [label] for row, label in zip(X_train, y_train)]\n",
    "        \n",
    "#         # Fit the model\n",
    "#         knn.fit(train_data_X=X_train, train_data_Y=y_train)\n",
    "        \n",
    "#         # Predict on validation data\n",
    "#         y_pred = knn.predict_batch(X_val)\n",
    "#         # y_pred_str = [inverse_label_mapping[pred] for pred in y_pred]\n",
    "#         # predictions[{k:metric}]=y_pred_str\n",
    "        \n",
    "#         # Calculate validation accuracy\n",
    "#         performance_metrics = PerformanceMetrics(y_true=y_val, y_pred=y_pred)\n",
    "#         accuracy = performance_metrics.accuracy()\n",
    "        \n",
    "#         # Measure the end time and calculate the processing time\n",
    "#         end_time = time.time()\n",
    "#         processing_time = end_time - start_time\n",
    "        \n",
    "#         # Store the k, metric, accuracy, and processing time\n",
    "#         results.append({\n",
    "#             'k': k,\n",
    "#             'metric': metric,\n",
    "#             'accuracy': accuracy,\n",
    "#             'processing_time': processing_time\n",
    "#         })\n",
    "        \n",
    "#         # Print a message indicating completion of this iteration\n",
    "#         print(f\"Completed k={k}, metric={metric}. Processing time: {processing_time:.4f} seconds\")\n"
   ]
  },
  {
   "cell_type": "code",
   "execution_count": 185,
   "metadata": {},
   "outputs": [
    {
     "name": "stdout",
     "output_type": "stream",
     "text": [
      "[{'k': 31, 'metric': 'euclidean', 'accuracy': 0.18219300200579452, 'processing_time': 57.87285494804382}, {'k': 31, 'metric': 'manhattan', 'accuracy': 0.19367060396701583, 'processing_time': 60.63056683540344}, {'k': 31, 'metric': 'cosine', 'accuracy': 0.17873857811455315, 'processing_time': 86.174880027771}, {'k': 32, 'metric': 'euclidean', 'accuracy': 0.17963004234455093, 'processing_time': 56.02797794342041}, {'k': 32, 'metric': 'manhattan', 'accuracy': 0.1935591709382661, 'processing_time': 60.97793793678284}, {'k': 32, 'metric': 'cosine', 'accuracy': 0.1774013817695565, 'processing_time': 90.42140913009644}, {'k': 33, 'metric': 'euclidean', 'accuracy': 0.1810786717182973, 'processing_time': 55.74736213684082}, {'k': 33, 'metric': 'manhattan', 'accuracy': 0.19400490305326498, 'processing_time': 61.25095772743225}, {'k': 33, 'metric': 'cosine', 'accuracy': 0.17461555605081347, 'processing_time': 90.639315366745}, {'k': 34, 'metric': 'euclidean', 'accuracy': 0.17974147537330065, 'processing_time': 55.72345209121704}, {'k': 34, 'metric': 'manhattan', 'accuracy': 0.1934477379095164, 'processing_time': 61.42532205581665}, {'k': 34, 'metric': 'cosine', 'accuracy': 0.1748384221083129, 'processing_time': 85.66370296478271}, {'k': 35, 'metric': 'euclidean', 'accuracy': 0.17929574325830175, 'processing_time': 55.417532205581665}, {'k': 35, 'metric': 'manhattan', 'accuracy': 0.19277913973701805, 'processing_time': 61.80878305435181}, {'k': 35, 'metric': 'cosine', 'accuracy': 0.17528415422331178, 'processing_time': 91.63251113891602}, {'k': 36, 'metric': 'euclidean', 'accuracy': 0.1790728772008023, 'processing_time': 56.03894400596619}, {'k': 36, 'metric': 'manhattan', 'accuracy': 0.19166480944952083, 'processing_time': 61.14252281188965}, {'k': 36, 'metric': 'cosine', 'accuracy': 0.17428125696456429, 'processing_time': 91.471675157547}, {'k': 37, 'metric': 'euclidean', 'accuracy': 0.17851571205705372, 'processing_time': 57.00890898704529}, {'k': 37, 'metric': 'manhattan', 'accuracy': 0.1935591709382661, 'processing_time': 66.27049279212952}, {'k': 37, 'metric': 'cosine', 'accuracy': 0.1747269890795632, 'processing_time': 102.83813095092773}, {'k': 38, 'metric': 'euclidean', 'accuracy': 0.17862714508580343, 'processing_time': 56.35585284233093}, {'k': 38, 'metric': 'manhattan', 'accuracy': 0.19333630488076667, 'processing_time': 64.7435290813446}, {'k': 38, 'metric': 'cosine', 'accuracy': 0.17439268999331403, 'processing_time': 114.0547661781311}, {'k': 39, 'metric': 'euclidean', 'accuracy': 0.17728994874080678, 'processing_time': 58.417876958847046}, {'k': 39, 'metric': 'manhattan', 'accuracy': 0.19110764430577223, 'processing_time': 62.780707120895386}, {'k': 39, 'metric': 'cosine', 'accuracy': 0.1737240918208157, 'processing_time': 98.32119870185852}, {'k': 40, 'metric': 'euclidean', 'accuracy': 0.176398484510809, 'processing_time': 58.02980589866638}, {'k': 40, 'metric': 'manhattan', 'accuracy': 0.19099621127702252, 'processing_time': 64.10935401916504}, {'k': 40, 'metric': 'cosine', 'accuracy': 0.1738355248495654, 'processing_time': 97.07975506782532}]\n"
     ]
    }
   ],
   "source": [
    "list_3 = list()\n",
    "import pickle\n",
    "\n",
    "# Load the list from the .txt file\n",
    "with open('my_list_3.txt', 'rb') as file:  # Use 'rb' for reading in binary mode\n",
    "    list_3 = pickle.load(file)\n",
    "\n",
    "# # Load the list from the .txt file\n",
    "# with open('my_list_2.txt', 'rb') as file:  # Use 'rb' for reading in binary mode\n",
    "#     list_3 = pickle.load(file)\n",
    "\n",
    "\n",
    "print(list_3)\n",
    "results.extend(list_3)"
   ]
  },
  {
   "cell_type": "code",
   "execution_count": 186,
   "metadata": {},
   "outputs": [
    {
     "name": "stdout",
     "output_type": "stream",
     "text": [
      "\n",
      "Top 10 {k, distance metric} pairs based on validation accuracy:\n",
      "Rank 1: k=12, metric=manhattan, accuracy=0.2007, processing time: 91.5786 seconds\n",
      "Rank 2: k=11, metric=manhattan, accuracy=0.2005, processing time: 89.1226 seconds\n",
      "Rank 3: k=16, metric=manhattan, accuracy=0.2001, processing time: 91.0607 seconds\n",
      "Rank 4: k=17, metric=manhattan, accuracy=0.1995, processing time: 91.7099 seconds\n",
      "Rank 5: k=13, metric=manhattan, accuracy=0.1994, processing time: 171.3577 seconds\n",
      "Rank 6: k=18, metric=manhattan, accuracy=0.1988, processing time: 91.1969 seconds\n",
      "Rank 7: k=15, metric=manhattan, accuracy=0.1981, processing time: 91.7165 seconds\n",
      "Rank 8: k=19, metric=manhattan, accuracy=0.1976, processing time: 91.7499 seconds\n",
      "Rank 9: k=23, metric=manhattan, accuracy=0.1972, processing time: 90.6404 seconds\n",
      "Rank 10: k=14, metric=manhattan, accuracy=0.1970, processing time: 91.2799 seconds\n"
     ]
    },
    {
     "data": {
      "image/png": "[encoded data removed]",
      "text/plain": [
       "<Figure size 640x480 with 1 Axes>"
      ]
     },
     "metadata": {},
     "output_type": "display_data"
    }
   ],
   "source": [
    "\n",
    "# Sort the results by accuracy in descending order\n",
    "results_sorted = sorted(results, key=lambda x: x['accuracy'], reverse=True)\n",
    "\n",
    "# Print an ordered rank list of the top 10 such pairs\n",
    "print(\"\\nTop 10 {k, distance metric} pairs based on validation accuracy:\")\n",
    "for i, result in enumerate(results_sorted[:10]):\n",
    "    print(f\"Rank {i + 1}: k={result['k']}, metric={result['metric']}, accuracy={result['accuracy']:.4f}, processing time: {result['processing_time']:.4f} seconds\")\n",
    "\n",
    "# Plot k vs accuracy for a given distance metric (e.g., 'euclidean')\n",
    "chosen_metric = 'manhattan'\n",
    "k_vs_accuracy = [(result['k'], result['accuracy']) for result in results_sorted if result['metric'] == chosen_metric]\n",
    "\n",
    "k_values_plot = [item[0] for item in k_vs_accuracy]\n",
    "accuracy_values_plot = [item[1] for item in k_vs_accuracy]\n",
    "\n",
    "plt.plot(k_values_plot, accuracy_values_plot, marker='o')\n",
    "plt.title(f'k vs Accuracy for {chosen_metric} metric')\n",
    "plt.xlabel('k')\n",
    "plt.ylabel('Accuracy')\n",
    "plt.grid(True)\n",
    "plt.show()\n"
   ]
  },
  {
   "cell_type": "code",
   "execution_count": null,
   "metadata": {},
   "outputs": [],
   "source": [
    "# Different training sizes\n",
    "train_sizes = [1000, 2000, 3000, 4000, 5000, 6000, 7000]\n",
    "initial_times = []\n",
    "best_times = []\n",
    "optimized_times = []\n",
    "sklearn_times = []\n",
    "\n",
    "# Function to measure inference time\n",
    "def measure_inference_time(knn, X_val, y_val):\n",
    "    start_time = time.time()\n",
    "    y_pred = knn.predict(X_val)\n",
    "    end_time = time.time()\n",
    "    inference_time = end_time - start_time\n",
    "    pf = PerformanceMetrics(y_val, y_pred)\n",
    "    accuracy = pf.accuracy()\n",
    "    return inference_time, accuracy\n",
    "\n",
    "for size in train_sizes:\n",
    "    # Select the first 'size' points from the training set\n",
    "    X_train_subset = X_train[:size]\n",
    "    y_train_subset = y_train[:size]\n",
    "    \n",
    "    # # Initial KNN model\n",
    "    # initial_knn = KNN(k=3, metric='euclidean')\n",
    "    # initial_knn.fit(X_train_subset, y_train_subset)\n",
    "    # inference_time, _ = measure_inference_time(initial_knn, X_val[:size], y_val[:size])\n",
    "    # initial_times.append(inference_time)\n",
    "    \n",
    "    # # Best KNN model\n",
    "    # best_knn = KNN(k=, metric='manhattan')\n",
    "    # best_knn.fit(X_train_subset, y_train_subset)\n",
    "    # inference_time, _ = measure_inference_time(best_knn, X_val[:size], y_val[:size])\n",
    "    # best_times.append(inference_time)\n",
    "    \n",
    "    # Optimized KNN model\n",
    "    optimized_knn = KNN(k=7, metric='cosine', vectorized='Vectorization')\n",
    "    optimized_knn.fit(X_train_subset, y_train_subset)\n",
    "    inference_time, _ = measure_inference_time(optimized_knn, X_val[:size], y_val[:size])\n",
    "    optimized_times.append(inference_time)\n",
    "    \n",
    "    # sklearn KNN model\n",
    "    sklearn_knn = KNeighborsClassifier(n_neighbors=3, metric='euclidean')\n",
    "    sklearn_knn.fit(X_train_subset, y_train_subset)\n",
    "    inference_time, _ = measure_inference_time(sklearn_knn, X_val[:size], y_val[:size])\n",
    "    sklearn_times.append(inference_time)\n",
    "\n",
    "# Plotting the results\n",
    "plt.figure(figsize=(10, 6))\n",
    "plt.plot(train_sizes, initial_times, label='Initial KNN Model')\n",
    "plt.plot(train_sizes, best_times, label='Best KNN Model')\n",
    "plt.plot(train_sizes, optimized_times, label='Optimized KNN Model')\n",
    "plt.plot(train_sizes, sklearn_times, label='Sklearn KNN Model')\n",
    "plt.xlabel('Training Dataset Size')\n",
    "plt.ylabel('Inference Time (seconds)')\n",
    "plt.title('Inference Time vs Training Dataset Size')\n",
    "plt.legend()\n",
    "plt.grid(True)\n",
    "plt.show()"
   ]
  },
  {
   "cell_type": "code",
   "execution_count": null,
   "metadata": {},
   "outputs": [],
   "source": []
  },
  {
   "cell_type": "code",
   "execution_count": 109,
   "metadata": {},
   "outputs": [
    {
     "name": "stderr",
     "output_type": "stream",
     "text": [
      "Predicting:  10%|█         | 935/8974 [00:12<01:48, 73.81sample/s]"
     ]
    },
    {
     "name": "stdout",
     "output_type": "stream",
     "text": [
      "Unexpected exception formatting exception. Falling back to standard exception\n"
     ]
    },
    {
     "name": "stderr",
     "output_type": "stream",
     "text": [
      "\n",
      "Traceback (most recent call last):\n",
      "  File \"/Library/Frameworks/Python.framework/Versions/3.11/lib/python3.11/site-packages/IPython/core/interactiveshell.py\", line 3508, in run_code\n",
      "    exec(code_obj, self.user_global_ns, self.user_ns)\n",
      "  File \"/var/folders/js/n7mnpc4915x2hstjlmdjm3_m0000gn/T/ipykernel_16843/2422723807.py\", line 37, in <module>\n",
      "    initial_knn.predict_batch(X_val)\n",
      "  File \"/var/folders/js/n7mnpc4915x2hstjlmdjm3_m0000gn/T/ipykernel_16843/207825060.py\", line 117, in predict_batch\n",
      "    predictions.append(self.predict(test_row))\n",
      "                       ^^^^^^^^^^^^^^^^^^^^^^\n",
      "  File \"/var/folders/js/n7mnpc4915x2hstjlmdjm3_m0000gn/T/ipykernel_16843/207825060.py\", line 101, in predict\n",
      "    distances = self.dist_func(self.X_train, test_row)\n",
      "                ^^^^^^^^^^^^^^^^^^^^^^^^^^^^^^^^^^^^^^\n",
      "  File \"/var/folders/js/n7mnpc4915x2hstjlmdjm3_m0000gn/T/ipykernel_16843/4024220079.py\", line -1, in euclidean_distance\n",
      "KeyboardInterrupt\n",
      "\n",
      "During handling of the above exception, another exception occurred:\n",
      "\n",
      "Traceback (most recent call last):\n",
      "  File \"/Library/Frameworks/Python.framework/Versions/3.11/lib/python3.11/site-packages/IPython/core/interactiveshell.py\", line 2105, in showtraceback\n",
      "    stb = self.InteractiveTB.structured_traceback(\n",
      "          ^^^^^^^^^^^^^^^^^^^^^^^^^^^^^^^^^^^^^^^^\n",
      "  File \"/Library/Frameworks/Python.framework/Versions/3.11/lib/python3.11/site-packages/IPython/core/ultratb.py\", line 1428, in structured_traceback\n",
      "    return FormattedTB.structured_traceback(\n",
      "           ^^^^^^^^^^^^^^^^^^^^^^^^^^^^^^^^^\n",
      "  File \"/Library/Frameworks/Python.framework/Versions/3.11/lib/python3.11/site-packages/IPython/core/ultratb.py\", line 1319, in structured_traceback\n",
      "    return VerboseTB.structured_traceback(\n",
      "           ^^^^^^^^^^^^^^^^^^^^^^^^^^^^^^^\n",
      "  File \"/Library/Frameworks/Python.framework/Versions/3.11/lib/python3.11/site-packages/IPython/core/ultratb.py\", line 1172, in structured_traceback\n",
      "    formatted_exception = self.format_exception_as_a_whole(etype, evalue, etb, number_of_lines_of_context,\n",
      "                          ^^^^^^^^^^^^^^^^^^^^^^^^^^^^^^^^^^^^^^^^^^^^^^^^^^^^^^^^^^^^^^^^^^^^^^^^^^^^^^^^\n",
      "  File \"/Library/Frameworks/Python.framework/Versions/3.11/lib/python3.11/site-packages/IPython/core/ultratb.py\", line 1087, in format_exception_as_a_whole\n",
      "    frames.append(self.format_record(record))\n",
      "                  ^^^^^^^^^^^^^^^^^^^^^^^^^^\n",
      "  File \"/Library/Frameworks/Python.framework/Versions/3.11/lib/python3.11/site-packages/IPython/core/ultratb.py\", line 969, in format_record\n",
      "    frame_info.lines, Colors, self.has_colors, lvals\n",
      "    ^^^^^^^^^^^^^^^^\n",
      "  File \"/Library/Frameworks/Python.framework/Versions/3.11/lib/python3.11/site-packages/IPython/core/ultratb.py\", line 792, in lines\n",
      "    return self._sd.lines\n",
      "           ^^^^^^^^^^^^^^\n",
      "  File \"/Library/Frameworks/Python.framework/Versions/3.11/lib/python3.11/site-packages/stack_data/utils.py\", line 144, in cached_property_wrapper\n",
      "    value = obj.__dict__[self.func.__name__] = self.func(obj)\n",
      "                                               ^^^^^^^^^^^^^^\n",
      "  File \"/Library/Frameworks/Python.framework/Versions/3.11/lib/python3.11/site-packages/stack_data/core.py\", line 734, in lines\n",
      "    pieces = self.included_pieces\n",
      "             ^^^^^^^^^^^^^^^^^^^^\n",
      "  File \"/Library/Frameworks/Python.framework/Versions/3.11/lib/python3.11/site-packages/stack_data/utils.py\", line 144, in cached_property_wrapper\n",
      "    value = obj.__dict__[self.func.__name__] = self.func(obj)\n",
      "                                               ^^^^^^^^^^^^^^\n",
      "  File \"/Library/Frameworks/Python.framework/Versions/3.11/lib/python3.11/site-packages/stack_data/core.py\", line 681, in included_pieces\n",
      "    pos = scope_pieces.index(self.executing_piece)\n",
      "                             ^^^^^^^^^^^^^^^^^^^^\n",
      "  File \"/Library/Frameworks/Python.framework/Versions/3.11/lib/python3.11/site-packages/stack_data/utils.py\", line 144, in cached_property_wrapper\n",
      "    value = obj.__dict__[self.func.__name__] = self.func(obj)\n",
      "                                               ^^^^^^^^^^^^^^\n",
      "  File \"/Library/Frameworks/Python.framework/Versions/3.11/lib/python3.11/site-packages/stack_data/core.py\", line 660, in executing_piece\n",
      "    return only(\n",
      "           ^^^^^\n",
      "  File \"/Library/Frameworks/Python.framework/Versions/3.11/lib/python3.11/site-packages/executing/executing.py\", line 190, in only\n",
      "    raise NotOneValueFound('Expected one value, found 0')\n",
      "executing.executing.NotOneValueFound: Expected one value, found 0\n"
     ]
    }
   ],
   "source": [
    "# import matplotlib.pyplot as plt\n",
    "# import time\n",
    "\n",
    "# # class OptimizedKNN(KNN):\n",
    "# #     def calculate_distance(self, row1, row2):\n",
    "# #         row1 = np.array(row1)\n",
    "# #         row2 = np.array(row2)\n",
    "# #         if self.metric == 'euclidean':\n",
    "# #             return np.sqrt(np.sum((row1 - row2) ** 2, axis=1))\n",
    "# #         elif self.metric == 'manhattan':\n",
    "# #             return np.sum(np.abs(row1 - row2), axis=1)\n",
    "# #         elif self.metric == 'cosine':\n",
    "# #             dot_product = np.dot(row1, row2)\n",
    "# #             return 1 - dot_product / (np.linalg.norm(row1, axis=1) * np.linalg.norm(row2))\n",
    "\n",
    "# #     def predict(self, test_row):\n",
    "# #         distances = self.calculate_distance(np.array(self.train_dataset)[:, :-1], test_row)\n",
    "# #         sorted_indices = np.argsort(distances)\n",
    "# #         k_nearest = [self.train_dataset[i][-1] for i in sorted_indices[:self.k]]\n",
    "# #         return max(set(k_nearest), key=k_nearest.count)\n",
    "\n",
    "# # # Data Loading (paths to be updated accordingly)\n",
    "# # train_data = pd.read_csv('/mnt/data/train_data.csv')\n",
    "# # val_data = pd.read_csv('/mnt/data/val_data.csv')\n",
    "\n",
    "# X_train = train_data.iloc[:, 1:-1].values\n",
    "# y_train = train_data['track_genre'].values\n",
    "# X_val = val_data.iloc[:, 1:-1].values\n",
    "# y_val = val_data['track_genre'].values\n",
    "\n",
    "# # train_dataset = [list(row) + [label] for row, label in zip(X_train, y_train)]\n",
    "\n",
    "# # Initial KNN Model\n",
    "# initial_knn = KNN(k=19, metric='euclidean', vectorized=None)\n",
    "# initial_knn.fit(X_train, y_train)\n",
    "# start_time = time.time()\n",
    "# initial_knn.predict_batch(X_val)\n",
    "# # end_time = time.time()\n",
    "# initial_time = time.time() - start_time\n",
    "\n",
    "# # Best KNN Model time already stored \n",
    "\n",
    "# # Optimized KNN Model\n",
    "# optim_knn = KNN(k=19, metric='euclidean', vectorized='Vectorization')\n",
    "# optim_knn.fit(X_train, y_train)\n",
    "# start_time = time.time()\n",
    "# optim_knn.predict_batch(X_val)\n",
    "# # end_time = \n",
    "# optimized_time = time.time() - start_time\n",
    "\n",
    "# # Sklearn KNN Model\n",
    "# from sklearn.neighbors import KNeighborsClassifier\n",
    "# sklearn_knn = KNeighborsClassifier(n_neighbors=19, metric='euclidean')\n",
    "# sklearn_knn.fit(X_train, y_train)\n",
    "# start_time = time.time()\n",
    "# sklearn_knn.predict(X_val)\n",
    "# sklearn_time = time.time() - start_time\n",
    "\n",
    "# # Plot inference time comparison\n",
    "# model_names = ['Initial KNN', 'Optimized KNN', 'Sklearn KNN']\n",
    "# times = [initial_time, optimized_time, sklearn_time]\n",
    "\n",
    "# plt.bar(model_names, times)\n",
    "# plt.ylabel('Inference Time (seconds)')\n",
    "# plt.title('Inference Time Comparison')\n",
    "# plt.show()\n",
    "\n",
    "# # Plot inference time vs train dataset size\n",
    "# dataset_sizes = [len(X_train) // 10 * i for i in range(1, 11)]\n",
    "# initial_times = []\n",
    "# optimized_times = []\n",
    "# sklearn_times = []\n",
    "\n",
    "# # for size in dataset_sizes:\n",
    "# #     subset = train_dataset[:size]\n",
    "    \n",
    "# #     initial_knn.fit(subset)\n",
    "# #     initial_times.append(measure_inference_time(initial_knn, X_val, 'track_genre'))\n",
    "    \n",
    "# #     optimized_knn.fit(subset)\n",
    "# #     optimized_times.append(measure_inference_time(optimized_knn, X_val, 'track_genre'))\n",
    "    \n",
    "# #     sklearn_knn.fit(X_train[:size], y_train[:size])\n",
    "# #     start_time = time.time()\n",
    "# #     sklearn_knn.predict(X_val)\n",
    "# #     sklearn_times.append(time.time() - start_time)\n",
    "\n",
    "# plt.plot(dataset_sizes, initial_times, label='Initial KNN')\n",
    "# plt.plot(dataset_sizes, optimized_times, label='Optimized KNN')\n",
    "# plt.plot(dataset_sizes, sklearn_times, label='Sklearn KNN')\n",
    "# plt.xlabel('Training Dataset Size')\n",
    "# plt.ylabel('Inference Time (seconds)')\n",
    "# plt.title('Inference Time vs Training Dataset Size')\n",
    "# plt.legend()\n",
    "# plt.show()"
   ]
  },
  {
   "cell_type": "code",
   "execution_count": 187,
   "metadata": {},
   "outputs": [],
   "source": [
    "# Load the training data from CSV\n",
    "train_data = pd.read_csv(train_data_path)\n",
    "val_data = pd.read_csv(val_data_path)\n",
    "\n",
    "train_data = train_data.drop(columns=features_to_drop)\n",
    "val_data = val_data.drop(columns=features_to_drop)\n",
    "\n",
    "# Remove the first column (serial number) and extract features and labels\n",
    "X_train = train_data.iloc[:, 1:-1].values  # Features from training data\n",
    "y_train = train_data['track_genre'].values  # Labels from training data\n",
    "\n",
    "X_val = val_data.iloc[:, 1:-1].values  # Features from validation data\n",
    "y_val = val_data['track_genre'].values  # Labels from validation data"
   ]
  },
  {
   "cell_type": "code",
   "execution_count": 188,
   "metadata": {},
   "outputs": [
    {
     "name": "stderr",
     "output_type": "stream",
     "text": [
      "100%|██████████| 8974/8974 [00:53<00:00, 166.83it/s]"
     ]
    },
    {
     "name": "stdout",
     "output_type": "stream",
     "text": [
      "{'accuracy': 0.20069088477824829, 'precision_macro': 0.19285527089614388, 'recall_macro': 0.1921779948374726, 'f1_score_macro': 0.19251603720027696, 'precision_micro': 0.20069088477824829, 'recall_micro': 0.20069088477824829, 'f1_score_micro': 0.20069088477824829}\n"
     ]
    },
    {
     "name": "stderr",
     "output_type": "stream",
     "text": [
      "\n"
     ]
    }
   ],
   "source": [
    "# Create KNN object\n",
    "k = 12  # Set the value of k\n",
    "metric = 'manhattan'  # Choose the distance metric\n",
    "# knn = KNN(k, metric)\n",
    "\n",
    "start = time.time()\n",
    "y_pred = evaluate_knn(k,metric, 'Vectorization')\n",
    "vectorized_time = time.time() - start"
   ]
  },
  {
   "cell_type": "code",
   "execution_count": null,
   "metadata": {},
   "outputs": [],
   "source": []
  }
 ],
 "metadata": {
  "kernelspec": {
   "display_name": "Python 3",
   "language": "python",
   "name": "python3"
  },
  "language_info": {
   "codemirror_mode": {
    "name": "ipython",
    "version": 3
   },
   "file_extension": ".py",
   "mimetype": "text/x-python",
   "name": "python",
   "nbconvert_exporter": "python",
   "pygments_lexer": "ipython3",
   "version": "3.11.3"
  }
 },
 "nbformat": 4,
 "nbformat_minor": 2
}
