{
 "cells": [
  {
   "cell_type": "code",
   "execution_count": 1,
   "metadata": {},
   "outputs": [],
   "source": [
    "import numpy as np \n",
    "import pandas as pd\n",
    "import csv\n",
    "import matplotlib.pyplot as plt "
   ]
  },
  {
   "cell_type": "code",
   "execution_count": 8,
   "metadata": {},
   "outputs": [],
   "source": [
    "dataset_path = '../../data/external/spotify.csv'\n",
    "dataset_path_unique = '../../data/interim/spotify_unique.csv'"
   ]
  },
  {
   "cell_type": "code",
   "execution_count": 3,
   "metadata": {},
   "outputs": [
    {
     "name": "stdout",
     "output_type": "stream",
     "text": [
      "(114000, 21) 2394000\n"
     ]
    }
   ],
   "source": [
    "dataset=pd.read_csv(dataset_path)\n",
    "print(dataset.shape, dataset.size)"
   ]
  },
  {
   "cell_type": "code",
   "execution_count": 4,
   "metadata": {},
   "outputs": [
    {
     "name": "stdout",
     "output_type": "stream",
     "text": [
      "   Unnamed: 0                track_id                 artists  \\\n",
      "0           0  5SuOikwiRyPMVoIQDJUgSV             Gen Hoshino   \n",
      "1           1  4qPNDBW1i3p13qLCt0Ki3A            Ben Woodward   \n",
      "2           2  1iJBSr7s7jYXzM8EGcbK5b  Ingrid Michaelson;ZAYN   \n",
      "3           3  6lfxq3CG4xtTiEg7opyCyx            Kina Grannis   \n",
      "4           4  5vjLSffimiIP26QG5WcN2K        Chord Overstreet   \n",
      "\n",
      "                                          album_name  \\\n",
      "0                                             Comedy   \n",
      "1                                   Ghost (Acoustic)   \n",
      "2                                     To Begin Again   \n",
      "3  Crazy Rich Asians (Original Motion Picture Sou...   \n",
      "4                                            Hold On   \n",
      "\n",
      "                   track_name  popularity  duration_ms  explicit  \\\n",
      "0                      Comedy          73       230666     False   \n",
      "1            Ghost - Acoustic          55       149610     False   \n",
      "2              To Begin Again          57       210826     False   \n",
      "3  Can't Help Falling In Love          71       201933     False   \n",
      "4                     Hold On          82       198853     False   \n",
      "\n",
      "   danceability  energy  ...  loudness  mode  speechiness  acousticness  \\\n",
      "0         0.676  0.4610  ...    -6.746     0       0.1430        0.0322   \n",
      "1         0.420  0.1660  ...   -17.235     1       0.0763        0.9240   \n",
      "2         0.438  0.3590  ...    -9.734     1       0.0557        0.2100   \n",
      "3         0.266  0.0596  ...   -18.515     1       0.0363        0.9050   \n",
      "4         0.618  0.4430  ...    -9.681     1       0.0526        0.4690   \n",
      "\n",
      "   instrumentalness  liveness  valence    tempo  time_signature  track_genre  \n",
      "0          0.000001    0.3580    0.715   87.917               4     acoustic  \n",
      "1          0.000006    0.1010    0.267   77.489               4     acoustic  \n",
      "2          0.000000    0.1170    0.120   76.332               4     acoustic  \n",
      "3          0.000071    0.1320    0.143  181.740               3     acoustic  \n",
      "4          0.000000    0.0829    0.167  119.949               4     acoustic  \n",
      "\n",
      "[5 rows x 21 columns]\n"
     ]
    }
   ],
   "source": [
    "#Sample Values\n",
    "print(dataset.head())"
   ]
  },
  {
   "cell_type": "code",
   "execution_count": 5,
   "metadata": {},
   "outputs": [
    {
     "name": "stdout",
     "output_type": "stream",
     "text": [
      "          Unnamed: 0     popularity   duration_ms   danceability  \\\n",
      "count  114000.000000  114000.000000  1.140000e+05  114000.000000   \n",
      "mean    56999.500000      33.238535  2.280292e+05       0.566800   \n",
      "std     32909.109681      22.305078  1.072977e+05       0.173542   \n",
      "min         0.000000       0.000000  0.000000e+00       0.000000   \n",
      "25%     28499.750000      17.000000  1.740660e+05       0.456000   \n",
      "50%     56999.500000      35.000000  2.129060e+05       0.580000   \n",
      "75%     85499.250000      50.000000  2.615060e+05       0.695000   \n",
      "max    113999.000000     100.000000  5.237295e+06       0.985000   \n",
      "\n",
      "              energy            key       loudness           mode  \\\n",
      "count  114000.000000  114000.000000  114000.000000  114000.000000   \n",
      "mean        0.641383       5.309140      -8.258960       0.637553   \n",
      "std         0.251529       3.559987       5.029337       0.480709   \n",
      "min         0.000000       0.000000     -49.531000       0.000000   \n",
      "25%         0.472000       2.000000     -10.013000       0.000000   \n",
      "50%         0.685000       5.000000      -7.004000       1.000000   \n",
      "75%         0.854000       8.000000      -5.003000       1.000000   \n",
      "max         1.000000      11.000000       4.532000       1.000000   \n",
      "\n",
      "         speechiness   acousticness  instrumentalness       liveness  \\\n",
      "count  114000.000000  114000.000000     114000.000000  114000.000000   \n",
      "mean        0.084652       0.314910          0.156050       0.213553   \n",
      "std         0.105732       0.332523          0.309555       0.190378   \n",
      "min         0.000000       0.000000          0.000000       0.000000   \n",
      "25%         0.035900       0.016900          0.000000       0.098000   \n",
      "50%         0.048900       0.169000          0.000042       0.132000   \n",
      "75%         0.084500       0.598000          0.049000       0.273000   \n",
      "max         0.965000       0.996000          1.000000       1.000000   \n",
      "\n",
      "             valence          tempo  time_signature  \n",
      "count  114000.000000  114000.000000   114000.000000  \n",
      "mean        0.474068     122.147837        3.904035  \n",
      "std         0.259261      29.978197        0.432621  \n",
      "min         0.000000       0.000000        0.000000  \n",
      "25%         0.260000      99.218750        4.000000  \n",
      "50%         0.464000     122.017000        4.000000  \n",
      "75%         0.683000     140.071000        4.000000  \n",
      "max         0.995000     243.372000        5.000000  \n",
      "<class 'pandas.core.frame.DataFrame'>\n",
      "RangeIndex: 114000 entries, 0 to 113999\n",
      "Data columns (total 21 columns):\n",
      " #   Column            Non-Null Count   Dtype  \n",
      "---  ------            --------------   -----  \n",
      " 0   Unnamed: 0        114000 non-null  int64  \n",
      " 1   track_id          114000 non-null  object \n",
      " 2   artists           113999 non-null  object \n",
      " 3   album_name        113999 non-null  object \n",
      " 4   track_name        113999 non-null  object \n",
      " 5   popularity        114000 non-null  int64  \n",
      " 6   duration_ms       114000 non-null  int64  \n",
      " 7   explicit          114000 non-null  bool   \n",
      " 8   danceability      114000 non-null  float64\n",
      " 9   energy            114000 non-null  float64\n",
      " 10  key               114000 non-null  int64  \n",
      " 11  loudness          114000 non-null  float64\n",
      " 12  mode              114000 non-null  int64  \n",
      " 13  speechiness       114000 non-null  float64\n",
      " 14  acousticness      114000 non-null  float64\n",
      " 15  instrumentalness  114000 non-null  float64\n",
      " 16  liveness          114000 non-null  float64\n",
      " 17  valence           114000 non-null  float64\n",
      " 18  tempo             114000 non-null  float64\n",
      " 19  time_signature    114000 non-null  int64  \n",
      " 20  track_genre       114000 non-null  object \n",
      "dtypes: bool(1), float64(9), int64(6), object(5)\n",
      "memory usage: 17.5+ MB\n",
      "None\n"
     ]
    }
   ],
   "source": [
    "print(dataset.describe())\n",
    "print(dataset.info())"
   ]
  },
  {
   "cell_type": "code",
   "execution_count": 7,
   "metadata": {},
   "outputs": [
    {
     "name": "stdout",
     "output_type": "stream",
     "text": [
      "Artists: 31438\n",
      "artists\n",
      "The Beatles                                                                 279\n",
      "George Jones                                                                271\n",
      "Stevie Wonder                                                               236\n",
      "Linkin Park                                                                 224\n",
      "Ella Fitzgerald                                                             222\n",
      "                                                                           ... \n",
      "Automatic Tasty                                                               1\n",
      "o9                                                                            1\n",
      "Pyotr Ilyich Tchaikovsky;National Philharmonic Orchestra;Richard Bonynge      1\n",
      "tstewart;Ólafur Arnalds                                                       1\n",
      "Jesus Culture                                                                 1\n",
      "Name: count, Length: 31437, dtype: int64\n",
      "\n",
      "Album Name: 46590\n",
      "album_name\n",
      "Alternative Christmas 2022     195\n",
      "Feliz Cumpleaños con Perreo    184\n",
      "Metal                          143\n",
      "Halloween con perreito         123\n",
      "Halloween Party 2022           115\n",
      "                              ... \n",
      "Me Alcançou                      1\n",
      "Comunhão e Adoração              1\n",
      "Força Pra Encarar                1\n",
      "The Way of the Fist              1\n",
      "Revelation Songs                 1\n",
      "Name: count, Length: 46589, dtype: int64\n",
      "\n",
      "Track Name: 73609\n",
      "track_name\n",
      "Run Rudolph Run                      151\n",
      "Halloween                             88\n",
      "Frosty The Snowman                    81\n",
      "Little Saint Nick - 1991 Remix        76\n",
      "Last Last                             75\n",
      "                                    ... \n",
      "Mitt Gullbergs kaj paradis (Live)      1\n",
      "Vill Inte Längre                       1\n",
      "Så länge du är med mig                 1\n",
      "Just Plain Bad                         1\n",
      "Barbincor                              1\n",
      "Name: count, Length: 73608, dtype: int64\n",
      "\n",
      "Track Genre: 114\n",
      "track_genre\n",
      "acoustic             1000\n",
      "punk-rock            1000\n",
      "progressive-house    1000\n",
      "power-pop            1000\n",
      "pop                  1000\n",
      "                     ... \n",
      "folk                 1000\n",
      "emo                  1000\n",
      "electronic           1000\n",
      "electro              1000\n",
      "world-music          1000\n",
      "Name: count, Length: 114, dtype: int64\n"
     ]
    }
   ],
   "source": [
    "print(\"Artists:\", len(dataset['artists'].unique()))\n",
    "print(dataset['artists'].value_counts())\n",
    "print()\n",
    "print(\"Album Name:\", len(dataset['album_name'].unique()))\n",
    "print(dataset['album_name'].value_counts())\n",
    "print()\n",
    "print(\"Track Name:\", len(dataset['track_name'].unique()))\n",
    "print(dataset['track_name'].value_counts())\n",
    "print()\n",
    "# print(\"Popularity:\", len(dataset['popularity'].unique()))\n",
    "# print(dataset['popularity'].value_counts())\n",
    "# print(\"Album Name:\", len(dataset['album_name'].unique()))\n",
    "# print(dataset['album_name'].value_counts())\n",
    "print(\"Track Genre:\", len(dataset['track_genre'].unique()))\n",
    "print(dataset['track_genre'].value_counts())"
   ]
  },
  {
   "cell_type": "markdown",
   "metadata": {},
   "source": []
  },
  {
   "cell_type": "code",
   "execution_count": 9,
   "metadata": {},
   "outputs": [
    {
     "name": "stdout",
     "output_type": "stream",
     "text": [
      "(89741, 21) 1884561\n"
     ]
    }
   ],
   "source": [
    "dataset_2=pd.read_csv(dataset_path_unique)\n",
    "print(dataset_2.shape, dataset_2.size)"
   ]
  },
  {
   "cell_type": "code",
   "execution_count": 10,
   "metadata": {},
   "outputs": [
    {
     "name": "stdout",
     "output_type": "stream",
     "text": [
      "Artists: 31438\n",
      "artists\n",
      "George Jones                          260\n",
      "my little airport                     171\n",
      "The Beatles                           149\n",
      "BTS                                   143\n",
      "Håkan Hellström                       141\n",
      "                                     ... \n",
      "Critical Mass;D-Block & S-te-Fan        1\n",
      "Klubfiller;Re-Con                       1\n",
      "Dj Gizmo;The Darkraver                  1\n",
      "Rotterdam Terror Corps;Mike Redman      1\n",
      "Jesus Culture                           1\n",
      "Name: count, Length: 31437, dtype: int64\n",
      "\n",
      "Album Name: 46590\n",
      "album_name\n",
      "The Complete Hank Williams     110\n",
      "Greatest Hits                   77\n",
      "Mozart: A Night of Classics     75\n",
      "Alternative Christmas 2022      73\n",
      "Mozart - All Day Classics       68\n",
      "                              ... \n",
      "Funk Ostentação                  1\n",
      "Zika Sai Pra Lá                  1\n",
      "Se Eu Te Botar Faz Barulho?      1\n",
      "Freestyle pra Faixa Rosa         1\n",
      "Revelation Songs                 1\n",
      "Name: count, Length: 46589, dtype: int64\n",
      "\n",
      "Track Name: 73609\n",
      "track_name\n",
      "Rockin' Around The Christmas Tree    48\n",
      "Frosty The Snowman                   45\n",
      "Little Saint Nick - 1991 Remix       41\n",
      "Run Rudolph Run                      40\n",
      "Santa Claus Is Coming To Town        38\n",
      "                                     ..\n",
      "Para Tudo                             1\n",
      "Depois da Seis                        1\n",
      "Me dói te ver sem mim                 1\n",
      "Amava Porra Nenhuma                   1\n",
      "Barbincor                             1\n",
      "Name: count, Length: 73608, dtype: int64\n",
      "\n",
      "Track Genre: 113\n",
      "track_genre\n",
      "acoustic     1000\n",
      "alt-rock      999\n",
      "tango         999\n",
      "ambient       999\n",
      "afrobeat      999\n",
      "             ... \n",
      "metal         232\n",
      "punk          226\n",
      "house         210\n",
      "indie         134\n",
      "reggaeton      74\n",
      "Name: count, Length: 113, dtype: int64\n"
     ]
    }
   ],
   "source": [
    "print(\"Artists:\", len(dataset_2['artists'].unique()))\n",
    "print(dataset_2['artists'].value_counts())\n",
    "print()\n",
    "print(\"Album Name:\", len(dataset_2['album_name'].unique()))\n",
    "print(dataset_2['album_name'].value_counts())\n",
    "print()\n",
    "print(\"Track Name:\", len(dataset_2['track_name'].unique()))\n",
    "print(dataset_2['track_name'].value_counts())\n",
    "print()\n",
    "# print(\"Popularity:\", len(dataset['popularity'].unique()))\n",
    "# print(dataset['popularity'].value_counts())\n",
    "# print(\"Album Name:\", len(dataset['album_name'].unique()))\n",
    "# print(dataset['album_name'].value_counts())\n",
    "print(\"Track Genre:\", len(dataset_2['track_genre'].unique()))\n",
    "print(dataset_2['track_genre'].value_counts())"
   ]
  },
  {
   "cell_type": "markdown",
   "metadata": {},
   "source": [
    "# Observation\n",
    "\n",
    "To classify based on the categorical variables (4 in the dataset), we can classify based on attribute \"Track Genre\""
   ]
  }
 ],
 "metadata": {
  "kernelspec": {
   "display_name": "Python 3",
   "language": "python",
   "name": "python3"
  },
  "language_info": {
   "codemirror_mode": {
    "name": "ipython",
    "version": 3
   },
   "file_extension": ".py",
   "mimetype": "text/x-python",
   "name": "python",
   "nbconvert_exporter": "python",
   "pygments_lexer": "ipython3",
   "version": "3.11.3"
  }
 },
 "nbformat": 4,
 "nbformat_minor": 2
}
